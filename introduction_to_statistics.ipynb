{
 "cells": [
  {
   "cell_type": "markdown",
   "id": "5591fc6c",
   "metadata": {},
   "source": [
    "# Introduction to Statistics in Python\n",
    "\n",
    "What is the likelihood of someone purchasing your product, how many calls will your support team receive, and how many jeans sizes should you manufacture to fit 95% of the population? In this course, we'll discover how to answer questions like these.\n",
    "\n",
    "## 1. Summary Statistics\n",
    "Summary statistics gives you the tools you need to boil down massive datasets to reveal the highlights. In this chapter, we'll explore summary statistics including mean, median, and standard deviation, and learn how to accurately interpret them. We'll also develop our critical thinking skills, allowing us to choose the best summary statistics for our data.\n",
    "\n",
    "#### 1.1 Measures of center\n",
    "In this chapter, we'll be working with the [2018 Food Carbon Footprint Index](https://www.nu3.de/blogs/nutrition/food-carbon-footprint-index-2018) from nu3. The `food_consumption` dataset contains information about the kilograms of food consumed per person per year in each country in each food category (`consumption`) as well as information about the carbon footprint of that food category (`co2_emissions`) measured in kilograms of carbon dioxide, or $\\text{CO}_2$, per person per year in each country.\n",
    "\n",
    "In this exercise, we'll compute measures of center to compare food consumption in the US and Belgium using your pandas and numpy skills."
   ]
  },
  {
   "cell_type": "code",
   "execution_count": 32,
   "id": "38fa29a8",
   "metadata": {},
   "outputs": [],
   "source": [
    "# Import packages\n",
    "import numpy as np\n",
    "import pandas as pd \n",
    "import matplotlib.pyplot as plt \n",
    "import seaborn as sns\n",
    "from scipy.stats import uniform, binom, norm"
   ]
  },
  {
   "cell_type": "code",
   "execution_count": 2,
   "id": "225c5465",
   "metadata": {},
   "outputs": [
    {
     "name": "stdout",
     "output_type": "stream",
     "text": [
      "42.132727272727266\n",
      "12.59\n",
      "44.650000000000006\n",
      "14.58\n"
     ]
    }
   ],
   "source": [
    "# Load data\n",
    "food_consumption = pd.read_csv('data/food_consumption.csv')\n",
    "\n",
    "# Filter for Belgium\n",
    "be_consumption = food_consumption[food_consumption['country'] == 'Belgium']\n",
    "\n",
    "# Filter for USA\n",
    "usa_consumption = food_consumption[food_consumption['country'] == 'USA']\n",
    "\n",
    "# Calculate mean and median consumption in Belgium\n",
    "print(np.mean(be_consumption['consumption']))\n",
    "print(np.median(be_consumption['consumption']))\n",
    "\n",
    "# Calculate mean and median consumption in USA\n",
    "print(np.mean(usa_consumption['consumption']))\n",
    "print(np.median(usa_consumption['consumption']))"
   ]
  },
  {
   "cell_type": "markdown",
   "id": "bc6b3486",
   "metadata": {},
   "source": [
    "There is a more \"elegant\" way to generate the results of the the cell above:"
   ]
  },
  {
   "cell_type": "code",
   "execution_count": 3,
   "id": "ead039ac",
   "metadata": {},
   "outputs": [
    {
     "name": "stdout",
     "output_type": "stream",
     "text": [
      "              mean  median\n",
      "country                   \n",
      "Belgium  42.132727   12.59\n",
      "USA      44.650000   14.58\n"
     ]
    }
   ],
   "source": [
    "# Subset for Belgium and USA only\n",
    "be_and_usa = food_consumption[(food_consumption['country'] == 'Belgium') | (food_consumption['country'] == 'USA')]\n",
    "\n",
    "# Group by country, select consumption column, and compute mean and median\n",
    "print(be_and_usa.groupby('country')['consumption'].agg([np.mean, np.median]))"
   ]
  },
  {
   "cell_type": "markdown",
   "id": "6e502b18",
   "metadata": {},
   "source": [
    "Now we'll compare the two measures of center, mean vs median."
   ]
  },
  {
   "cell_type": "code",
   "execution_count": 4,
   "id": "aaa79770",
   "metadata": {},
   "outputs": [
    {
     "data": {
      "image/png": "[encoded data removed]",
      "text/plain": [
       "<Figure size 432x288 with 1 Axes>"
      ]
     },
     "metadata": {
      "needs_background": "light"
     },
     "output_type": "display_data"
    }
   ],
   "source": [
    "# Subset for food_category equals rice\n",
    "rice_consumption = food_consumption[food_consumption['food_category'] == 'rice']\n",
    "\n",
    "# Histogram of co2_emission for rice and show plot\n",
    "sns.histplot(rice_consumption['co2_emission'])\n",
    "plt.show()"
   ]
  },
  {
   "cell_type": "code",
   "execution_count": 5,
   "id": "0d4cf5c4",
   "metadata": {},
   "outputs": [
    {
     "name": "stdout",
     "output_type": "stream",
     "text": [
      "mean      37.591615\n",
      "median    15.200000\n",
      "Name: co2_emission, dtype: float64\n"
     ]
    }
   ],
   "source": [
    "# Calculate mean and median of co2_emission with .agg()\n",
    "print(rice_consumption['co2_emission'].agg([np.mean, np.median]))"
   ]
  },
  {
   "cell_type": "markdown",
   "id": "455aa753",
   "metadata": {},
   "source": [
    "Given the skew of this data, the median measure of central best summarizes the kilograms of $\\text{CO}_2$ emissions per person per year for rice.\n",
    "\n",
    "#### 1.2 Measures of spread\n",
    "\n",
    "Quantiles are a great way of summarizing numerical data since they can be used to measure center and spread, as well as to get a sense of where a data point stands in relation to the rest of the data set. For example, you might want to give a discount to the 10% most active users on a website.\n",
    "\n",
    "In this exercise, we'll calculate quartiles, quintiles, and deciles, which split up a dataset into 4, 5, and 10 pieces, respectively."
   ]
  },
  {
   "cell_type": "code",
   "execution_count": 6,
   "id": "d6fc2281",
   "metadata": {},
   "outputs": [
    {
     "name": "stdout",
     "output_type": "stream",
     "text": [
      "[   0.        5.21     16.53     62.5975 1712.    ]\n",
      "[   0.       3.54    11.026   25.59    99.978 1712.   ]\n",
      "[0.00000e+00 6.68000e-01 3.54000e+00 7.04000e+00 1.10260e+01 1.65300e+01\n",
      " 2.55900e+01 4.42710e+01 9.99780e+01 2.03629e+02 1.71200e+03]\n"
     ]
    }
   ],
   "source": [
    "# Calculate the quartiles of co2_emission\n",
    "print(np.quantile(food_consumption['co2_emission'], [0, 0.25, 0.5, 0.75, 1]))\n",
    "\n",
    "# Calculate the six quantiles that split up the co2_emission into 5 pieces (quintiles)\n",
    "print(np.quantile(food_consumption['co2_emission'], np.linspace(0, 1, 6)))\n",
    "\n",
    "# Calculate the six quantiles that split up the co2_emission into 10 pieces (deciles)\n",
    "print(np.quantile(food_consumption['co2_emission'], np.linspace(0, 1, 11)))"
   ]
  },
  {
   "cell_type": "markdown",
   "id": "c982c716",
   "metadata": {},
   "source": [
    "While calculating more quantiles gives us a more detailed look at the data, it also produces more numbers, making the summary more difficult to quickly understand.\n",
    "\n",
    "Variance and standard deviation are two of the most common ways to measure the spread of a variable, and we'll practice calculating these in this exercise. Spread is important since it can help inform expectations. For example, if a salesperson sells a mean of 20 products a day, but has a standard deviation of 10 products, there will probably be days where they sell 40 products, but also days where they only sell one or two. Information like this is important, especially when making predictions."
   ]
  },
  {
   "cell_type": "code",
   "execution_count": 7,
   "id": "bf8f727d",
   "metadata": {},
   "outputs": [
    {
     "name": "stdout",
     "output_type": "stream",
     "text": [
      "                        var         std\n",
      "food_category                          \n",
      "beef           88748.408132  297.906710\n",
      "dairy          17671.891985  132.935669\n",
      "eggs              21.371819    4.622966\n",
      "fish             921.637349   30.358481\n",
      "lamb_goat      16475.518363  128.356996\n",
      "nuts              35.639652    5.969895\n",
      "pork            3094.963537   55.632396\n",
      "poultry          245.026801   15.653332\n",
      "rice            2281.376243   47.763754\n",
      "soybeans           0.879882    0.938020\n",
      "wheat             71.023937    8.427570\n"
     ]
    },
    {
     "data": {
      "image/png": "[encoded data removed]",
      "text/plain": [
       "<Figure size 432x288 with 1 Axes>"
      ]
     },
     "metadata": {
      "needs_background": "light"
     },
     "output_type": "display_data"
    },
    {
     "data": {
      "image/png": "[encoded data removed]",
      "text/plain": [
       "<Figure size 432x288 with 1 Axes>"
      ]
     },
     "metadata": {
      "needs_background": "light"
     },
     "output_type": "display_data"
    }
   ],
   "source": [
    "# Print variance and std of co2_emission for each food_category\n",
    "print(food_consumption.groupby('food_category')['co2_emission'].agg([np.var, np.std]))\n",
    "\n",
    "\n",
    "# Create histogram of co2_emission for food_category 'beef'\n",
    "sns.histplot(food_consumption[food_consumption['food_category'] == 'beef']['co2_emission'])\n",
    "\n",
    "# Show plot\n",
    "plt.show()\n",
    "\n",
    "# Create histogram of co2_emission for food_category 'eggs'\n",
    "sns.histplot(food_consumption[food_consumption['food_category'] == 'eggs']['co2_emission'])\n",
    "\n",
    "# Show plot\n",
    "plt.show()"
   ]
  },
  {
   "cell_type": "markdown",
   "id": "96942f95",
   "metadata": {},
   "source": [
    "Beef has the largest amount of variation in its $\\text{CO}_2$ emissions, while eggs have a relatively small amount of variation.\n",
    "\n",
    "Outliers can have big effects on statistics like mean, as well as statistics that rely on the mean, such as variance and standard deviation. Interquartile range, or IQR, is another way of measuring spread that's less influenced by outliers. IQR is also often used to find outliers. If a value is less than $\\text{Q1} - 1.5 \\times \\text{IQR}$ or greater than $\\text{Q3} + 1.5 \\times \\text{IQR}$, it's considered an outlier. In fact, this is how the lengths of the whiskers in a matplotlib box plot are calculated.\n",
    "\n",
    "<img src=\"fig/iqr.png\" width=600  />\n",
    "\n",
    "In this exercise, we'll calculate IQR and use it to find some outliers."
   ]
  },
  {
   "cell_type": "code",
   "execution_count": 8,
   "id": "f39f9c72",
   "metadata": {},
   "outputs": [
    {
     "name": "stdout",
     "output_type": "stream",
     "text": [
      "country\n",
      "Argentina    2172.4\n",
      "Name: co2_emission, dtype: float64\n"
     ]
    }
   ],
   "source": [
    "# Calculate total co2_emission per country: emissions_by_country\n",
    "emissions_by_country = food_consumption.groupby('country')['co2_emission'].sum()\n",
    "\n",
    "# Compute the first and third quartiles and IQR of emissions_by_country\n",
    "q1 = np.quantile(emissions_by_country, 0.25)\n",
    "q3 = np.quantile(emissions_by_country, 0.75)\n",
    "iqr = q3 - q1\n",
    "\n",
    "# Calculate the lower and upper cutoffs for outliers\n",
    "lower = q1 - 1.5*iqr\n",
    "upper = q3 + 1.5*iqr\n",
    "\n",
    "# Subset emissions_by_country to find outliers\n",
    "outliers = emissions_by_country[(emissions_by_country < lower) | (emissions_by_country > upper)]\n",
    "print(outliers)"
   ]
  },
  {
   "cell_type": "markdown",
   "id": "4acdc6b4",
   "metadata": {},
   "source": [
    "It looks like Argentina has a substantially higher amount of $\\text{CO}_2$ emissions per person than other countries in the world.\n",
    "\n",
    "## 2. Random Numbers and Probability\n",
    "\n",
    "In this chapter, we'll learn how to generate random samples and measure chance using probability. We'll work with real-world sales data to calculate the probability of a salesperson being successful. Finally, weu’ll use the binomial distribution to model events with binary outcomes.\n",
    "\n",
    "#### 2.1 What are the chances?\n",
    "\n",
    "SCENARIO: _You're in charge of the sales team, and it's time for performance reviews, starting with Amir. As part of the review, you want to randomly select a few of the deals that he's worked on over the past year so that you can look at them more deeply._ \n",
    "\n",
    "Before we start selecting deals, we'll first figure out what the chances are of selecting certain deals.\n",
    "\n",
    "$$ P(\\text{event}) = \\frac{ \\text{# event can happen} }{ \\text{total # of possible outcomes} } $$"
   ]
  },
  {
   "cell_type": "code",
   "execution_count": 9,
   "id": "b5310017",
   "metadata": {},
   "outputs": [
    {
     "data": {
      "text/html": [
       "<div>\n",
       "<style scoped>\n",
       "    .dataframe tbody tr th:only-of-type {\n",
       "        vertical-align: middle;\n",
       "    }\n",
       "\n",
       "    .dataframe tbody tr th {\n",
       "        vertical-align: top;\n",
       "    }\n",
       "\n",
       "    .dataframe thead th {\n",
       "        text-align: right;\n",
       "    }\n",
       "</style>\n",
       "<table border=\"1\" class=\"dataframe\">\n",
       "  <thead>\n",
       "    <tr style=\"text-align: right;\">\n",
       "      <th></th>\n",
       "      <th>Unnamed: 0</th>\n",
       "      <th>product</th>\n",
       "      <th>client</th>\n",
       "      <th>status</th>\n",
       "      <th>amount</th>\n",
       "      <th>num_users</th>\n",
       "    </tr>\n",
       "  </thead>\n",
       "  <tbody>\n",
       "    <tr>\n",
       "      <th>0</th>\n",
       "      <td>1</td>\n",
       "      <td>Product F</td>\n",
       "      <td>Current</td>\n",
       "      <td>Won</td>\n",
       "      <td>7389.52</td>\n",
       "      <td>19</td>\n",
       "    </tr>\n",
       "    <tr>\n",
       "      <th>1</th>\n",
       "      <td>2</td>\n",
       "      <td>Product C</td>\n",
       "      <td>New</td>\n",
       "      <td>Won</td>\n",
       "      <td>4493.01</td>\n",
       "      <td>43</td>\n",
       "    </tr>\n",
       "    <tr>\n",
       "      <th>2</th>\n",
       "      <td>3</td>\n",
       "      <td>Product B</td>\n",
       "      <td>New</td>\n",
       "      <td>Won</td>\n",
       "      <td>5738.09</td>\n",
       "      <td>87</td>\n",
       "    </tr>\n",
       "    <tr>\n",
       "      <th>3</th>\n",
       "      <td>4</td>\n",
       "      <td>Product I</td>\n",
       "      <td>Current</td>\n",
       "      <td>Won</td>\n",
       "      <td>2591.24</td>\n",
       "      <td>83</td>\n",
       "    </tr>\n",
       "    <tr>\n",
       "      <th>4</th>\n",
       "      <td>5</td>\n",
       "      <td>Product E</td>\n",
       "      <td>Current</td>\n",
       "      <td>Won</td>\n",
       "      <td>6622.97</td>\n",
       "      <td>17</td>\n",
       "    </tr>\n",
       "  </tbody>\n",
       "</table>\n",
       "</div>"
      ],
      "text/plain": [
       "   Unnamed: 0    product   client status   amount  num_users\n",
       "0           1  Product F  Current    Won  7389.52         19\n",
       "1           2  Product C      New    Won  4493.01         43\n",
       "2           3  Product B      New    Won  5738.09         87\n",
       "3           4  Product I  Current    Won  2591.24         83\n",
       "4           5  Product E  Current    Won  6622.97         17"
      ]
     },
     "execution_count": 9,
     "metadata": {},
     "output_type": "execute_result"
    }
   ],
   "source": [
    "# load and preview the data\n",
    "amir_deals = pd.read_csv('data/amir_deals.csv')\n",
    "amir_deals.head()"
   ]
  },
  {
   "cell_type": "code",
   "execution_count": 10,
   "id": "0427d027",
   "metadata": {},
   "outputs": [
    {
     "name": "stdout",
     "output_type": "stream",
     "text": [
      "Product B    0.348315\n",
      "Product D    0.224719\n",
      "Product A    0.129213\n",
      "Product C    0.084270\n",
      "Product F    0.061798\n",
      "Product H    0.044944\n",
      "Product I    0.039326\n",
      "Product E    0.028090\n",
      "Product N    0.016854\n",
      "Product G    0.011236\n",
      "Product J    0.011236\n",
      "Name: product, dtype: float64\n"
     ]
    }
   ],
   "source": [
    "# Count the deals for each product\n",
    "counts = amir_deals['product'].value_counts()\n",
    "\n",
    "# Calculate probability of picking a deal with each product\n",
    "probs = counts / counts.sum()\n",
    "print(probs)"
   ]
  },
  {
   "cell_type": "markdown",
   "id": "2ecd051c",
   "metadata": {},
   "source": [
    "Now it's time to randomly pick five deals so that we can reach out to each customer and ask if they were satisfied with the service they received. We'll try doing this both with and without replacement.\n",
    "\n",
    "Additionally, we want to make sure this is done randomly and that it can be reproduced in case we get asked how we chose the deals, so we'll need to set the random seed before sampling from the deals."
   ]
  },
  {
   "cell_type": "code",
   "execution_count": 11,
   "id": "b782f978",
   "metadata": {},
   "outputs": [
    {
     "name": "stdout",
     "output_type": "stream",
     "text": [
      "     Unnamed: 0    product   client status   amount  num_users\n",
      "127         128  Product B  Current    Won  2070.25          7\n",
      "148         149  Product D  Current    Won  3485.48         52\n",
      "77           78  Product B  Current    Won  6252.30         27\n",
      "104         105  Product D  Current    Won  4110.98         39\n",
      "166         167  Product C      New   Lost  3779.86         11\n"
     ]
    }
   ],
   "source": [
    "# Set random seed\n",
    "np.random.seed(24)\n",
    "\n",
    "# Sample 5 deals without replacement\n",
    "sample_without_replacement = amir_deals.sample(5)\n",
    "print(sample_without_replacement)"
   ]
  },
  {
   "cell_type": "code",
   "execution_count": 12,
   "id": "af88cf7f",
   "metadata": {},
   "outputs": [
    {
     "name": "stdout",
     "output_type": "stream",
     "text": [
      "     Unnamed: 0    product   client status   amount  num_users\n",
      "162         163  Product D  Current    Won  6755.66         59\n",
      "131         132  Product B  Current    Won  6872.29         25\n",
      "87           88  Product C  Current    Won  3579.63          3\n",
      "145         146  Product A  Current    Won  4682.94         63\n",
      "145         146  Product A  Current    Won  4682.94         63\n"
     ]
    }
   ],
   "source": [
    "# Set random seed\n",
    "np.random.seed(24)\n",
    "\n",
    "# Sample 5 deals with replacement\n",
    "sample_with_replacement = amir_deals.sample(5, replace=True)\n",
    "print(sample_with_replacement)"
   ]
  },
  {
   "cell_type": "markdown",
   "id": "109c4e41",
   "metadata": {},
   "source": [
    "It's important to consider how we'll take a sample since there's no one-size-fits-all way to sample, and this can have an effect on our results. In our case, we need to follow \"without replacement\" strategy, otherwise we might end up calling the same customer twice.\n",
    "\n",
    "#### 2.2 Discrete distributions\n",
    "\n",
    "SCENARIO: _A new restaurant opened a few months ago, and the restaurant's management wants to optimize its seating space based on the size of the groups that come most often. On one night, there are 10 groups of people waiting to be seated at the restaurant, but instead of being called in the order they arrived, they will be called randomly._\n",
    "\n",
    "In this exercise, we'll investigate the probability of groups of different sizes getting picked first. Data on each of the ten groups is contained in the `restaurant_groups` DataFrame. "
   ]
  },
  {
   "cell_type": "code",
   "execution_count": 13,
   "id": "4e49d2a0",
   "metadata": {},
   "outputs": [
    {
     "data": {
      "text/html": [
       "<div>\n",
       "<style scoped>\n",
       "    .dataframe tbody tr th:only-of-type {\n",
       "        vertical-align: middle;\n",
       "    }\n",
       "\n",
       "    .dataframe tbody tr th {\n",
       "        vertical-align: top;\n",
       "    }\n",
       "\n",
       "    .dataframe thead th {\n",
       "        text-align: right;\n",
       "    }\n",
       "</style>\n",
       "<table border=\"1\" class=\"dataframe\">\n",
       "  <thead>\n",
       "    <tr style=\"text-align: right;\">\n",
       "      <th></th>\n",
       "      <th>group_id</th>\n",
       "      <th>group_size</th>\n",
       "    </tr>\n",
       "  </thead>\n",
       "  <tbody>\n",
       "    <tr>\n",
       "      <th>0</th>\n",
       "      <td>A</td>\n",
       "      <td>2</td>\n",
       "    </tr>\n",
       "    <tr>\n",
       "      <th>1</th>\n",
       "      <td>B</td>\n",
       "      <td>4</td>\n",
       "    </tr>\n",
       "    <tr>\n",
       "      <th>2</th>\n",
       "      <td>C</td>\n",
       "      <td>6</td>\n",
       "    </tr>\n",
       "    <tr>\n",
       "      <th>3</th>\n",
       "      <td>D</td>\n",
       "      <td>2</td>\n",
       "    </tr>\n",
       "    <tr>\n",
       "      <th>4</th>\n",
       "      <td>E</td>\n",
       "      <td>2</td>\n",
       "    </tr>\n",
       "  </tbody>\n",
       "</table>\n",
       "</div>"
      ],
      "text/plain": [
       "  group_id  group_size\n",
       "0        A           2\n",
       "1        B           4\n",
       "2        C           6\n",
       "3        D           2\n",
       "4        E           2"
      ]
     },
     "execution_count": 13,
     "metadata": {},
     "output_type": "execute_result"
    }
   ],
   "source": [
    "# load and preview the data\n",
    "restaurant_groups = pd.read_csv('data/restaurant_groups.csv')\n",
    "restaurant_groups.head()"
   ]
  },
  {
   "cell_type": "code",
   "execution_count": 14,
   "id": "aeea0fa8",
   "metadata": {},
   "outputs": [
    {
     "data": {
      "image/png": "[encoded data removed]",
      "text/plain": [
       "<Figure size 432x288 with 1 Axes>"
      ]
     },
     "metadata": {
      "needs_background": "light"
     },
     "output_type": "display_data"
    }
   ],
   "source": [
    "# Create a histogram of restaurant_groups and show plot\n",
    "sns.histplot(data=restaurant_groups, x=\"group_size\", bins=[2, 3, 4, 5, 6])\n",
    "plt.show()"
   ]
  },
  {
   "cell_type": "code",
   "execution_count": 16,
   "id": "98c5f001",
   "metadata": {},
   "outputs": [
    {
     "name": "stdout",
     "output_type": "stream",
     "text": [
      "0.30000000000000004\n"
     ]
    }
   ],
   "source": [
    "# Create probability distribution\n",
    "size_dist = restaurant_groups['group_size'].value_counts() / restaurant_groups.shape[0]\n",
    "# Reset index and rename columns\n",
    "size_dist = size_dist.reset_index()\n",
    "size_dist.columns = ['group_size', 'prob']\n",
    "\n",
    "# Expected value\n",
    "expected_value = np.sum(size_dist['group_size'] * size_dist['prob'])\n",
    "\n",
    "# Subset groups of size 4 or more\n",
    "groups_4_or_more = size_dist[size_dist['group_size'] >= 4]\n",
    "\n",
    "# Sum the probabilities of groups_4_or_more\n",
    "prob_4_or_more = groups_4_or_more['prob'].sum()\n",
    "print(prob_4_or_more)"
   ]
  },
  {
   "cell_type": "markdown",
   "id": "7d1197be",
   "metadata": {},
   "source": [
    "We'll continue to build upon these skills since many statistical tests and methods use probability distributions as their foundation.\n",
    "\n",
    "#### 2.3 Continuous distributions\n",
    "\n",
    "SCENARIO: _The sales software used at your company is set to automatically back itself up, but no one knows exactly what time the back-ups happen. It is known, however, that back-ups happen exactly every 30 minutes. Amir comes back from sales meetings at random times to update the data on the client he just met with. He wants to know how long he'll have to wait for his newly-entered data to get backed up._ \n",
    "\n",
    "We will use our new knowledge of continuous uniform distributions to model this situation and answer Amir's questions."
   ]
  },
  {
   "cell_type": "code",
   "execution_count": 21,
   "id": "d6a72d95",
   "metadata": {},
   "outputs": [
    {
     "name": "stdout",
     "output_type": "stream",
     "text": [
      "The probability of Amir waiting less than 5 mins is 0.17\n",
      "The probability of Amir waiting more than 5 mins is 0.83\n",
      "The probability of Amir waiting 10-20 mins is 0.33\n"
     ]
    }
   ],
   "source": [
    "# Min and max wait times for back-up that happens every 30 min\n",
    "min_time = 0\n",
    "max_time = 30\n",
    "\n",
    "\n",
    "# Calculate probability of waiting less than 5 mins\n",
    "prob_less_than_5 = uniform.cdf(5, min_time, max_time)\n",
    "print(\"The probability of Amir waiting less than 5 mins is {0:.2f}\".format(prob_less_than_5))\n",
    "\n",
    "# Calculate probability of waiting more than 5 mins\n",
    "prob_greater_than_5 = 1 - uniform.cdf(5, min_time, max_time)\n",
    "print(\"The probability of Amir waiting more than 5 mins is {0:.2f}\".format(prob_greater_than_5))\n",
    "\n",
    "# Calculate probability of waiting 10-20 mins\n",
    "prob_between_10_and_20 = uniform.cdf(20, min_time, max_time) - uniform.cdf(10, min_time, max_time)\n",
    "print(\"The probability of Amir waiting 10-20 mins is {0:.2f}\".format(prob_between_10_and_20))"
   ]
  },
  {
   "cell_type": "markdown",
   "id": "2ebd223e",
   "metadata": {},
   "source": [
    "There's a 33% chance that Amir will wait 10-20 minutes. We'll make sure this calculation holds up by simulating some wait times. To give Amir a better idea of how long he'll have to wait, we'll simulate Amir waiting 1000 times and create a histogram to show him what he should expect. "
   ]
  },
  {
   "cell_type": "code",
   "execution_count": 23,
   "id": "4a454c38",
   "metadata": {},
   "outputs": [
    {
     "data": {
      "image/png": "[encoded data removed]",
      "text/plain": [
       "<Figure size 432x288 with 1 Axes>"
      ]
     },
     "metadata": {
      "needs_background": "light"
     },
     "output_type": "display_data"
    }
   ],
   "source": [
    "# Set random seed to 334\n",
    "np.random.seed(334)\n",
    "\n",
    "# Generate 1000 wait times between 0 and 30 mins\n",
    "wait_times = uniform.rvs(min_time, max_time, size=1000)\n",
    "\n",
    "# Create a histogram of simulated times and show plot\n",
    "sns.histplot(wait_times)\n",
    "plt.show()"
   ]
  },
  {
   "cell_type": "markdown",
   "id": "f13c67f2",
   "metadata": {},
   "source": [
    "Unless Amir figures out exactly what time each backup happens, he won't be able to time his data entry so it gets backed up sooner, but it looks like he'll wait about 15 minutes on average.\n",
    "\n",
    "#### 2.4 The binomial distribution\n",
    "\n",
    "SCENARIO: _Assume that Amir usually works on 3 deals per week, and overall, he wins 30% of deals he works on. Each deal has a binary outcome: it's either lost, or won, so you can model his sales deals with a binomial distribution._\n",
    "\n",
    "In this exercise, we'll help Amir simulate a year's worth of his deals so he can better understand his performance."
   ]
  },
  {
   "cell_type": "code",
   "execution_count": 25,
   "id": "d6434902",
   "metadata": {},
   "outputs": [
    {
     "name": "stdout",
     "output_type": "stream",
     "text": [
      "0.8269230769230769\n"
     ]
    }
   ],
   "source": [
    "# Set random seed to 10\n",
    "np.random.seed(10)\n",
    "\n",
    "# Simulate 1 week of 3 deals\n",
    "# print(binom.rvs(3, 0.3, size=1))\n",
    "\n",
    "# Simulate 52 weeks of 3 deals\n",
    "deals = binom.rvs(3, 0.3, size=52)\n",
    "\n",
    "# Print mean deals won per week\n",
    "print(np.mean(deals))"
   ]
  },
  {
   "cell_type": "markdown",
   "id": "bdd50961",
   "metadata": {},
   "source": [
    "In this simulated year, Amir won 0.83 deals on average each week.\n",
    "\n",
    "SCENARIO: _Assume that Amir wins 30% of deals. He wants to get an idea of how likely he is to close a certain number of deals each week._\n",
    "\n",
    "In this exercise, we'll calculate what the chances are of him closing different numbers of deals using the binomial distribution."
   ]
  },
  {
   "cell_type": "code",
   "execution_count": 28,
   "id": "27d9360a",
   "metadata": {},
   "outputs": [
    {
     "name": "stdout",
     "output_type": "stream",
     "text": [
      "The probability of Amir closing 3 out of 3 deals is 0.03\n",
      "The probability of Amir closing <= 1 deal out of 3 deals is 0.78\n",
      "The probability of Amir closing > 1 deal out of 3 deals is 0.22\n"
     ]
    }
   ],
   "source": [
    "# Probability of closing 3 out of 3 deals\n",
    "prob_3 = binom.pmf(3, 3, 0.3)\n",
    "\n",
    "print(\"The probability of Amir closing 3 out of 3 deals is {0:.2f}\".format(prob_3))\n",
    "\n",
    "# Probability of closing <= 1 deal out of 3 deals\n",
    "prob_less_than_or_equal_1 = binom.cdf(1, 3, 0.3)\n",
    "\n",
    "print(\"The probability of Amir closing <= 1 deal out of 3 deals is {0:.2f}\".format(prob_less_than_or_equal_1))\n",
    "\n",
    "# Probability of closing > 1 deal out of 3 deals\n",
    "prob_greater_than_1 = 1 - binom.cdf(1, 3, 0.3)\n",
    "\n",
    "print(\"The probability of Amir closing > 1 deal out of 3 deals is {0:.2f}\".format(prob_greater_than_1))"
   ]
  },
  {
   "cell_type": "markdown",
   "id": "be878b94",
   "metadata": {},
   "source": [
    "Amir has about a 22% chance of closing more than one deal in a week. \n",
    "\n",
    "SCENARIO: _Now Amir wants to know how many deals he can expect to close each week if his win rate changes._ \n",
    "\n",
    "Luckily, we can use our binomial distribution knowledge to help him calculate the expected value in different situations. Recall that the expected value of a binomial distribution can be calculated by $n \\times p$."
   ]
  },
  {
   "cell_type": "code",
   "execution_count": 30,
   "id": "c128cd08",
   "metadata": {},
   "outputs": [
    {
     "name": "stdout",
     "output_type": "stream",
     "text": [
      "Amir's expected number won with 30% win rate is 0.90\n",
      "Amir's expected number won with 25% win rate is 0.75\n",
      "Amir's expected number won with 35% win rate is 1.05\n"
     ]
    }
   ],
   "source": [
    "# Expected number won with 30% win rate\n",
    "won_30pct = 3 * 0.3\n",
    "print(\"Amir's expected number won with 30% win rate is {0:.2f}\".format(won_30pct))\n",
    "\n",
    "# Expected number won with 25% win rate\n",
    "won_25pct = 3 * 0.25\n",
    "print(\"Amir's expected number won with 25% win rate is {0:.2f}\".format(won_25pct))\n",
    "\n",
    "# Expected number won with 35% win rate\n",
    "won_35pct = 3 * 0.35\n",
    "print(\"Amir's expected number won with 35% win rate is {0:.2f}\".format(won_35pct))"
   ]
  },
  {
   "cell_type": "markdown",
   "id": "acaa23d7",
   "metadata": {},
   "source": [
    "If Amir's win rate goes up by 5%, he can expect to close more than 1 deal on average each week.\n",
    "\n",
    "## 3. More Distributions and the Central Limit Theorem\n",
    "\n",
    "It’s time to explore one of the most important probability distributions in statistics, normal distribution. We’ll create histograms to plot normal distributions and gain an understanding of the central limit theorem, before expanding our knowledge of statistical functions by adding the Poisson, exponential, and t-distributions to our repertoire.\n",
    "\n",
    "#### 3.1 The normal distribution\n",
    "\n",
    "Since each deal Amir worked on (both won and lost) was different, each was worth a different amount of money. These values are stored in the `amount` column of `amir_deals`. As part of Amir's performance review, we want to be able to estimate the probability of him selling different amounts, but before we can do this, we'll need to determine what kind of distribution the amount variable follows."
   ]
  },
  {
   "cell_type": "code",
   "execution_count": 31,
   "id": "92b70c06",
   "metadata": {},
   "outputs": [
    {
     "data": {
      "image/png": "[encoded data removed]",
      "text/plain": [
       "<Figure size 432x288 with 1 Axes>"
      ]
     },
     "metadata": {
      "needs_background": "light"
     },
     "output_type": "display_data"
    }
   ],
   "source": [
    "# Histogram of amount with 10 bins\n",
    "sns.histplot(amir_deals['amount'], bins=10)\n",
    "plt.show()"
   ]
  },
  {
   "cell_type": "markdown",
   "id": "039ef7e0",
   "metadata": {},
   "source": [
    "Now that we've visualized the data, we know that we can approximate probabilities of different `amounts` using the normal distribution. The `amount` column of `amir_deals` and follow a normal distribution with a mean of 5000 dollars and a standard deviation of 2000 dollars. As part of his performance metrics, we want to calculate the probability of Amir closing a deal worth various amounts."
   ]
  },
  {
   "cell_type": "code",
   "execution_count": 37,
   "id": "df63ac15",
   "metadata": {},
   "outputs": [
    {
     "name": "stdout",
     "output_type": "stream",
     "text": [
      "The probability of Amir closing a deal < $7500 worth is 0.89.\n",
      "The probability of Amir closing a deal > $1000 worth is 0.98.\n",
      "The probability of Amir closing a deal between $3000 and $7000 worth is 0.68.\n",
      "The amount that 25% of Amir's deals will be less than is $3651.02.\n"
     ]
    }
   ],
   "source": [
    "# Probability of deal < 7500\n",
    "prob_less_7500 = norm.cdf(7500, 5000, 2000)\n",
    "\n",
    "print(\"The probability of Amir closing a deal < $7500 worth is {0:.2f}.\".format(prob_less_7500))\n",
    "\n",
    "# Probability of deal > 1000\n",
    "prob_over_1000 = 1 - norm.cdf(1000, 5000, 2000)\n",
    "\n",
    "print(\"The probability of Amir closing a deal > $1000 worth is {0:.2f}.\".format(prob_over_1000))\n",
    "\n",
    "# Probability of deal between 3000 and 7000\n",
    "prob_3000_to_7000 = norm.cdf(7000, 5000, 2000) - norm.cdf(3000, 5000, 2000)\n",
    "\n",
    "print(\"The probability of Amir closing a deal between $3000 and $7000 worth is {0:.2f}.\".format(prob_3000_to_7000))\n",
    "\n",
    "# Calculate amount that 25% of deals will be less than\n",
    "pct_25 = norm.ppf(0.25, 5000, 2000)\n",
    "\n",
    "print(\"The amount that 25% of Amir's deals will be less than is ${0:.2f}.\".format(pct_25))"
   ]
  },
  {
   "cell_type": "markdown",
   "id": "1a4c167e",
   "metadata": {},
   "source": [
    "WE know that we can count on Amir 75% (1-0.25) of the time to make a sale worth at least $3651.02. This information could be useful in making company-wide sales projections.\n",
    "\n",
    "The company's financial analyst is predicting that next quarter, the worth of each sale will increase by 75% and the volatility, or standard deviation, of each sale's worth will increase by 30%. To see what Amir's sales might look like next quarter under these new market conditions, we'll simulate new sales amounts using the normal distribution and store these in the `new_sales` DataFrame."
   ]
  },
  {
   "cell_type": "code",
   "execution_count": 40,
   "id": "afc88e72",
   "metadata": {},
   "outputs": [
    {
     "data": {
      "image/png": "[encoded data removed]",
      "text/plain": [
       "<Figure size 432x288 with 1 Axes>"
      ]
     },
     "metadata": {
      "needs_background": "light"
     },
     "output_type": "display_data"
    }
   ],
   "source": [
    "# Calculate new average amount\n",
    "new_mean = 1.2*5000\n",
    "\n",
    "# Calculate new standard deviation\n",
    "new_sd = 1.3*2000\n",
    "\n",
    "# Simulate 36 new sales\n",
    "np.random.seed(42)\n",
    "new_sales = norm.rvs(new_mean, new_sd, size=36)\n",
    "\n",
    "# Create histogram and show\n",
    "sns.histplot(new_sales)\n",
    "plt.show()"
   ]
  },
  {
   "cell_type": "markdown",
   "id": "72ae0ce6",
   "metadata": {},
   "source": [
    "Although the average sale amount went up, the variation also increased, so it's not straightforward to decide whether these sales are better than his current ones.\n",
    "\n",
    "#### 3.2 The central limit theorem"
   ]
  }
 ],
 "metadata": {
  "kernelspec": {
   "display_name": "intro-to-kaggle-copetition",
   "language": "python",
   "name": "intro-to-kaggle-copetition"
  },
  "language_info": {
   "codemirror_mode": {
    "name": "ipython",
    "version": 3
   },
   "file_extension": ".py",
   "mimetype": "text/x-python",
   "name": "python",
   "nbconvert_exporter": "python",
   "pygments_lexer": "ipython3",
   "version": "3.8.13"
  }
 },
 "nbformat": 4,
 "nbformat_minor": 5
}
